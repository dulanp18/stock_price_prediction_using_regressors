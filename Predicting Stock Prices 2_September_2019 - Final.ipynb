{
 "cells": [
  {
   "cell_type": "code",
   "execution_count": 1,
   "metadata": {},
   "outputs": [],
   "source": [
    "import pandas as pd\n",
    "import numpy as np\n",
    "import datetime\n",
    "from pandas import Series, DataFrame\n",
    "import math as math\n",
    "\n"
   ]
  },
  {
   "cell_type": "code",
   "execution_count": 2,
   "metadata": {},
   "outputs": [
    {
     "name": "stdout",
     "output_type": "stream",
     "text": [
      "<class 'pandas.core.frame.DataFrame'>\n",
      "RangeIndex: 1259 entries, 0 to 1258\n",
      "Data columns (total 6 columns):\n",
      "date      1259 non-null object\n",
      "close     1259 non-null float64\n",
      "volume    1259 non-null float64\n",
      "open      1259 non-null float64\n",
      "high      1259 non-null float64\n",
      "low       1259 non-null float64\n",
      "dtypes: float64(5), object(1)\n",
      "memory usage: 59.1+ KB\n"
     ]
    }
   ],
   "source": [
    "#import csv and assess data types\n",
    "df = pd.read_csv('HistoricalQuotes.csv')\n",
    "df.info()"
   ]
  },
  {
   "cell_type": "code",
   "execution_count": 3,
   "metadata": {},
   "outputs": [],
   "source": [
    "#convert date to datetime format\n",
    "df['date'] = pd.to_datetime(df['date'])"
   ]
  },
  {
   "cell_type": "code",
   "execution_count": 4,
   "metadata": {},
   "outputs": [
    {
     "data": {
      "text/html": [
       "<div>\n",
       "<style scoped>\n",
       "    .dataframe tbody tr th:only-of-type {\n",
       "        vertical-align: middle;\n",
       "    }\n",
       "\n",
       "    .dataframe tbody tr th {\n",
       "        vertical-align: top;\n",
       "    }\n",
       "\n",
       "    .dataframe thead th {\n",
       "        text-align: right;\n",
       "    }\n",
       "</style>\n",
       "<table border=\"1\" class=\"dataframe\">\n",
       "  <thead>\n",
       "    <tr style=\"text-align: right;\">\n",
       "      <th></th>\n",
       "      <th>date</th>\n",
       "      <th>close</th>\n",
       "      <th>volume</th>\n",
       "      <th>open</th>\n",
       "      <th>high</th>\n",
       "      <th>low</th>\n",
       "    </tr>\n",
       "  </thead>\n",
       "  <tbody>\n",
       "    <tr>\n",
       "      <th>1258</th>\n",
       "      <td>2014-09-04</td>\n",
       "      <td>98.12</td>\n",
       "      <td>85537710.0</td>\n",
       "      <td>98.85</td>\n",
       "      <td>100.09</td>\n",
       "      <td>97.79</td>\n",
       "    </tr>\n",
       "    <tr>\n",
       "      <th>1257</th>\n",
       "      <td>2014-09-05</td>\n",
       "      <td>98.97</td>\n",
       "      <td>58280030.0</td>\n",
       "      <td>98.80</td>\n",
       "      <td>99.39</td>\n",
       "      <td>98.31</td>\n",
       "    </tr>\n",
       "    <tr>\n",
       "      <th>1256</th>\n",
       "      <td>2014-09-08</td>\n",
       "      <td>98.36</td>\n",
       "      <td>46176570.0</td>\n",
       "      <td>99.30</td>\n",
       "      <td>99.31</td>\n",
       "      <td>98.05</td>\n",
       "    </tr>\n",
       "    <tr>\n",
       "      <th>1255</th>\n",
       "      <td>2014-09-09</td>\n",
       "      <td>97.99</td>\n",
       "      <td>189419500.0</td>\n",
       "      <td>99.08</td>\n",
       "      <td>103.08</td>\n",
       "      <td>96.14</td>\n",
       "    </tr>\n",
       "    <tr>\n",
       "      <th>1254</th>\n",
       "      <td>2014-09-10</td>\n",
       "      <td>101.00</td>\n",
       "      <td>100352500.0</td>\n",
       "      <td>98.01</td>\n",
       "      <td>101.11</td>\n",
       "      <td>97.76</td>\n",
       "    </tr>\n",
       "  </tbody>\n",
       "</table>\n",
       "</div>"
      ],
      "text/plain": [
       "           date   close       volume   open    high    low\n",
       "1258 2014-09-04   98.12   85537710.0  98.85  100.09  97.79\n",
       "1257 2014-09-05   98.97   58280030.0  98.80   99.39  98.31\n",
       "1256 2014-09-08   98.36   46176570.0  99.30   99.31  98.05\n",
       "1255 2014-09-09   97.99  189419500.0  99.08  103.08  96.14\n",
       "1254 2014-09-10  101.00  100352500.0  98.01  101.11  97.76"
      ]
     },
     "execution_count": 4,
     "metadata": {},
     "output_type": "execute_result"
    }
   ],
   "source": [
    "#sort data from oldest to newest\n",
    "df = df.sort_values(by='date', ascending=True)\n",
    "df.head()"
   ]
  },
  {
   "cell_type": "code",
   "execution_count": 5,
   "metadata": {},
   "outputs": [],
   "source": [
    "#set date as index\n",
    "df = df.set_index('date')"
   ]
  },
  {
   "cell_type": "code",
   "execution_count": 6,
   "metadata": {},
   "outputs": [
    {
     "data": {
      "text/html": [
       "<div>\n",
       "<style scoped>\n",
       "    .dataframe tbody tr th:only-of-type {\n",
       "        vertical-align: middle;\n",
       "    }\n",
       "\n",
       "    .dataframe tbody tr th {\n",
       "        vertical-align: top;\n",
       "    }\n",
       "\n",
       "    .dataframe thead th {\n",
       "        text-align: right;\n",
       "    }\n",
       "</style>\n",
       "<table border=\"1\" class=\"dataframe\">\n",
       "  <thead>\n",
       "    <tr style=\"text-align: right;\">\n",
       "      <th></th>\n",
       "      <th>close</th>\n",
       "      <th>volume</th>\n",
       "      <th>open</th>\n",
       "      <th>high</th>\n",
       "      <th>low</th>\n",
       "    </tr>\n",
       "    <tr>\n",
       "      <th>date</th>\n",
       "      <th></th>\n",
       "      <th></th>\n",
       "      <th></th>\n",
       "      <th></th>\n",
       "      <th></th>\n",
       "    </tr>\n",
       "  </thead>\n",
       "  <tbody>\n",
       "    <tr>\n",
       "      <th>2014-09-04</th>\n",
       "      <td>98.12</td>\n",
       "      <td>85537710.0</td>\n",
       "      <td>98.85</td>\n",
       "      <td>100.09</td>\n",
       "      <td>97.79</td>\n",
       "    </tr>\n",
       "    <tr>\n",
       "      <th>2014-09-05</th>\n",
       "      <td>98.97</td>\n",
       "      <td>58280030.0</td>\n",
       "      <td>98.80</td>\n",
       "      <td>99.39</td>\n",
       "      <td>98.31</td>\n",
       "    </tr>\n",
       "    <tr>\n",
       "      <th>2014-09-08</th>\n",
       "      <td>98.36</td>\n",
       "      <td>46176570.0</td>\n",
       "      <td>99.30</td>\n",
       "      <td>99.31</td>\n",
       "      <td>98.05</td>\n",
       "    </tr>\n",
       "    <tr>\n",
       "      <th>2014-09-09</th>\n",
       "      <td>97.99</td>\n",
       "      <td>189419500.0</td>\n",
       "      <td>99.08</td>\n",
       "      <td>103.08</td>\n",
       "      <td>96.14</td>\n",
       "    </tr>\n",
       "    <tr>\n",
       "      <th>2014-09-10</th>\n",
       "      <td>101.00</td>\n",
       "      <td>100352500.0</td>\n",
       "      <td>98.01</td>\n",
       "      <td>101.11</td>\n",
       "      <td>97.76</td>\n",
       "    </tr>\n",
       "  </tbody>\n",
       "</table>\n",
       "</div>"
      ],
      "text/plain": [
       "             close       volume   open    high    low\n",
       "date                                                 \n",
       "2014-09-04   98.12   85537710.0  98.85  100.09  97.79\n",
       "2014-09-05   98.97   58280030.0  98.80   99.39  98.31\n",
       "2014-09-08   98.36   46176570.0  99.30   99.31  98.05\n",
       "2014-09-09   97.99  189419500.0  99.08  103.08  96.14\n",
       "2014-09-10  101.00  100352500.0  98.01  101.11  97.76"
      ]
     },
     "execution_count": 6,
     "metadata": {},
     "output_type": "execute_result"
    }
   ],
   "source": [
    "#view dataframe\n",
    "df.head()"
   ]
  },
  {
   "cell_type": "code",
   "execution_count": 7,
   "metadata": {},
   "outputs": [],
   "source": [
    "#Plot the rolling mean of closing price\n",
    "\n",
    "close_p = df['close']\n",
    "ma_close = close_p.rolling(window=100).mean()\n"
   ]
  },
  {
   "cell_type": "code",
   "execution_count": 8,
   "metadata": {},
   "outputs": [
    {
     "data": {
      "text/plain": [
       "<matplotlib.legend.Legend at 0x11697e198>"
      ]
     },
     "execution_count": 8,
     "metadata": {},
     "output_type": "execute_result"
    },
    {
     "data": {
      "image/png": "[encoded data removed]",
      "text/plain": [
       "<Figure size 576x504 with 1 Axes>"
      ]
     },
     "metadata": {},
     "output_type": "display_data"
    }
   ],
   "source": [
    "%matplotlib inline\n",
    "import matplotlib.pyplot as plt\n",
    "from matplotlib import style\n",
    "\n",
    "# Adjusting the size of matplotlib\n",
    "import matplotlib as mpl\n",
    "mpl.rc('figure', figsize=(8, 7))\n",
    "mpl.__version__\n",
    "\n",
    "# Adjusting the style of matplotlib\n",
    "style.use('ggplot')\n",
    "\n",
    "close_p.plot(label='AAPL')\n",
    "ma_close.plot(label='mavg')\n",
    "plt.legend()"
   ]
  },
  {
   "cell_type": "code",
   "execution_count": 9,
   "metadata": {},
   "outputs": [
    {
     "data": {
      "text/plain": [
       "<matplotlib.axes._subplots.AxesSubplot at 0x117d72748>"
      ]
     },
     "execution_count": 9,
     "metadata": {},
     "output_type": "execute_result"
    },
    {
     "data": {
      "image/png": "[encoded data removed]",
      "text/plain": [
       "<Figure size 432x288 with 1 Axes>"
      ]
     },
     "metadata": {
      "needs_background": "light"
     },
     "output_type": "display_data"
    }
   ],
   "source": [
    "#plotting returns\n",
    "returns = close_p /close_p.shift(1) - 1\n",
    "returns.plot(label = 'returns')"
   ]
  },
  {
   "cell_type": "code",
   "execution_count": 10,
   "metadata": {},
   "outputs": [
    {
     "data": {
      "text/html": [
       "<div>\n",
       "<style scoped>\n",
       "    .dataframe tbody tr th:only-of-type {\n",
       "        vertical-align: middle;\n",
       "    }\n",
       "\n",
       "    .dataframe tbody tr th {\n",
       "        vertical-align: top;\n",
       "    }\n",
       "\n",
       "    .dataframe thead th {\n",
       "        text-align: right;\n",
       "    }\n",
       "</style>\n",
       "<table border=\"1\" class=\"dataframe\">\n",
       "  <thead>\n",
       "    <tr style=\"text-align: right;\">\n",
       "      <th></th>\n",
       "      <th>close</th>\n",
       "      <th>volume</th>\n",
       "      <th>hl_pct</th>\n",
       "      <th>pct_change</th>\n",
       "    </tr>\n",
       "    <tr>\n",
       "      <th>date</th>\n",
       "      <th></th>\n",
       "      <th></th>\n",
       "      <th></th>\n",
       "      <th></th>\n",
       "    </tr>\n",
       "  </thead>\n",
       "  <tbody>\n",
       "    <tr>\n",
       "      <th>2014-09-04</th>\n",
       "      <td>98.12</td>\n",
       "      <td>85537710.0</td>\n",
       "      <td>2.344068</td>\n",
       "      <td>-0.738493</td>\n",
       "    </tr>\n",
       "    <tr>\n",
       "      <th>2014-09-05</th>\n",
       "      <td>98.97</td>\n",
       "      <td>58280030.0</td>\n",
       "      <td>1.091240</td>\n",
       "      <td>0.172065</td>\n",
       "    </tr>\n",
       "    <tr>\n",
       "      <th>2014-09-08</th>\n",
       "      <td>98.36</td>\n",
       "      <td>46176570.0</td>\n",
       "      <td>1.281009</td>\n",
       "      <td>-0.946626</td>\n",
       "    </tr>\n",
       "    <tr>\n",
       "      <th>2014-09-09</th>\n",
       "      <td>97.99</td>\n",
       "      <td>189419500.0</td>\n",
       "      <td>7.082355</td>\n",
       "      <td>-1.100121</td>\n",
       "    </tr>\n",
       "    <tr>\n",
       "      <th>2014-09-10</th>\n",
       "      <td>101.00</td>\n",
       "      <td>100352500.0</td>\n",
       "      <td>3.316832</td>\n",
       "      <td>3.050709</td>\n",
       "    </tr>\n",
       "  </tbody>\n",
       "</table>\n",
       "</div>"
      ],
      "text/plain": [
       "             close       volume    hl_pct  pct_change\n",
       "date                                                 \n",
       "2014-09-04   98.12   85537710.0  2.344068   -0.738493\n",
       "2014-09-05   98.97   58280030.0  1.091240    0.172065\n",
       "2014-09-08   98.36   46176570.0  1.281009   -0.946626\n",
       "2014-09-09   97.99  189419500.0  7.082355   -1.100121\n",
       "2014-09-10  101.00  100352500.0  3.316832    3.050709"
      ]
     },
     "execution_count": 10,
     "metadata": {},
     "output_type": "execute_result"
    }
   ],
   "source": [
    "#creating dataset for model with variables hl_pct and pct_change\n",
    "df_reg = df.loc[:,['close','volume']]\n",
    "df_reg['hl_pct'] = ((df['high'] - df['low'])/ df['close'])*100.0\n",
    "df_reg['pct_change'] = ((df['close']- df['open'])/df['open'])*100.0\n",
    "df_reg.head()"
   ]
  },
  {
   "cell_type": "code",
   "execution_count": 11,
   "metadata": {},
   "outputs": [],
   "source": [
    "#preparing predictor variable to predict out stock prices for the next 100 days\n",
    "forecast_out = int(100)\n",
    "df_reg['prediction'] = df_reg['close'].shift(-forecast_out)"
   ]
  },
  {
   "cell_type": "code",
   "execution_count": 12,
   "metadata": {},
   "outputs": [
    {
     "data": {
      "text/html": [
       "<div>\n",
       "<style scoped>\n",
       "    .dataframe tbody tr th:only-of-type {\n",
       "        vertical-align: middle;\n",
       "    }\n",
       "\n",
       "    .dataframe tbody tr th {\n",
       "        vertical-align: top;\n",
       "    }\n",
       "\n",
       "    .dataframe thead th {\n",
       "        text-align: right;\n",
       "    }\n",
       "</style>\n",
       "<table border=\"1\" class=\"dataframe\">\n",
       "  <thead>\n",
       "    <tr style=\"text-align: right;\">\n",
       "      <th></th>\n",
       "      <th>close</th>\n",
       "      <th>volume</th>\n",
       "      <th>hl_pct</th>\n",
       "      <th>pct_change</th>\n",
       "      <th>prediction</th>\n",
       "    </tr>\n",
       "    <tr>\n",
       "      <th>date</th>\n",
       "      <th></th>\n",
       "      <th></th>\n",
       "      <th></th>\n",
       "      <th></th>\n",
       "      <th></th>\n",
       "    </tr>\n",
       "  </thead>\n",
       "  <tbody>\n",
       "    <tr>\n",
       "      <th>2019-08-28</th>\n",
       "      <td>205.53</td>\n",
       "      <td>15957630.0</td>\n",
       "      <td>1.167713</td>\n",
       "      <td>0.700637</td>\n",
       "      <td>NaN</td>\n",
       "    </tr>\n",
       "    <tr>\n",
       "      <th>2019-08-29</th>\n",
       "      <td>209.01</td>\n",
       "      <td>21007650.0</td>\n",
       "      <td>1.275059</td>\n",
       "      <td>0.244604</td>\n",
       "      <td>NaN</td>\n",
       "    </tr>\n",
       "    <tr>\n",
       "      <th>2019-08-30</th>\n",
       "      <td>208.74</td>\n",
       "      <td>21162560.0</td>\n",
       "      <td>1.556961</td>\n",
       "      <td>-0.675676</td>\n",
       "      <td>NaN</td>\n",
       "    </tr>\n",
       "    <tr>\n",
       "      <th>2019-09-03</th>\n",
       "      <td>205.70</td>\n",
       "      <td>20059570.0</td>\n",
       "      <td>1.341760</td>\n",
       "      <td>-0.353631</td>\n",
       "      <td>NaN</td>\n",
       "    </tr>\n",
       "    <tr>\n",
       "      <th>2019-09-04</th>\n",
       "      <td>209.19</td>\n",
       "      <td>19216820.0</td>\n",
       "      <td>1.032554</td>\n",
       "      <td>0.383896</td>\n",
       "      <td>NaN</td>\n",
       "    </tr>\n",
       "  </tbody>\n",
       "</table>\n",
       "</div>"
      ],
      "text/plain": [
       "             close      volume    hl_pct  pct_change  prediction\n",
       "date                                                            \n",
       "2019-08-28  205.53  15957630.0  1.167713    0.700637         NaN\n",
       "2019-08-29  209.01  21007650.0  1.275059    0.244604         NaN\n",
       "2019-08-30  208.74  21162560.0  1.556961   -0.675676         NaN\n",
       "2019-09-03  205.70  20059570.0  1.341760   -0.353631         NaN\n",
       "2019-09-04  209.19  19216820.0  1.032554    0.383896         NaN"
      ]
     },
     "execution_count": 12,
     "metadata": {},
     "output_type": "execute_result"
    }
   ],
   "source": [
    "#view tail of dataframe to view the shift of precition back \n",
    "df_reg.tail()"
   ]
  },
  {
   "cell_type": "code",
   "execution_count": 13,
   "metadata": {},
   "outputs": [],
   "source": [
    "#importing necessary regressors and objects for preprocessing, splitting training and test data\n",
    "from sklearn.linear_model import LinearRegression\n",
    "from sklearn.neighbors import KNeighborsRegressor\n",
    "from sklearn.linear_model import Ridge\n",
    "from sklearn.preprocessing import PolynomialFeatures\n",
    "from sklearn.pipeline import make_pipeline\n",
    "from sklearn import preprocessing, model_selection, svm"
   ]
  },
  {
   "cell_type": "code",
   "execution_count": 14,
   "metadata": {},
   "outputs": [],
   "source": [
    "#creating input data for model\n",
    "X = np.array(df_reg.drop(['prediction'], 1))\n",
    "X = preprocessing.scale(X)"
   ]
  },
  {
   "cell_type": "code",
   "execution_count": 15,
   "metadata": {},
   "outputs": [],
   "source": [
    "X_forecast = X[-forecast_out:] # set X_forecast equal to last 100\n",
    "X = X[:-forecast_out]"
   ]
  },
  {
   "cell_type": "code",
   "execution_count": 17,
   "metadata": {},
   "outputs": [
    {
     "data": {
      "text/plain": [
       "(1159, 4)"
      ]
     },
     "execution_count": 17,
     "metadata": {},
     "output_type": "execute_result"
    }
   ],
   "source": [
    "X.shape"
   ]
  },
  {
   "cell_type": "code",
   "execution_count": 16,
   "metadata": {},
   "outputs": [],
   "source": [
    "#creating labelled data for model\n",
    "y = np.array(df_reg['prediction'])\n",
    "y = y[:-forecast_out]"
   ]
  },
  {
   "cell_type": "code",
   "execution_count": 17,
   "metadata": {},
   "outputs": [
    {
     "data": {
      "text/plain": [
       "(1159,)"
      ]
     },
     "execution_count": 17,
     "metadata": {},
     "output_type": "execute_result"
    }
   ],
   "source": [
    "y.shape"
   ]
  },
  {
   "cell_type": "code",
   "execution_count": 18,
   "metadata": {},
   "outputs": [],
   "source": [
    "#split into training and test sets\n",
    "X_train, X_test, y_train, y_test = model_selection.train_test_split(X, y, test_size = 0.2, random_state = 42)"
   ]
  },
  {
   "cell_type": "code",
   "execution_count": 19,
   "metadata": {},
   "outputs": [
    {
     "data": {
      "text/plain": [
       "LinearRegression(copy_X=True, fit_intercept=True, n_jobs=-1, normalize=False)"
      ]
     },
     "execution_count": 19,
     "metadata": {},
     "output_type": "execute_result"
    }
   ],
   "source": [
    "# Linear regression\n",
    "clfreg = LinearRegression(n_jobs=-1)\n",
    "clfreg.fit(X_train,y_train)"
   ]
  },
  {
   "cell_type": "code",
   "execution_count": 20,
   "metadata": {},
   "outputs": [
    {
     "data": {
      "text/plain": [
       "Pipeline(memory=None,\n",
       "         steps=[('polynomialfeatures',\n",
       "                 PolynomialFeatures(degree=2, include_bias=True,\n",
       "                                    interaction_only=False, order='C')),\n",
       "                ('ridge',\n",
       "                 Ridge(alpha=1.0, copy_X=True, fit_intercept=True,\n",
       "                       max_iter=None, normalize=False, random_state=None,\n",
       "                       solver='auto', tol=0.001))],\n",
       "         verbose=False)"
      ]
     },
     "execution_count": 20,
     "metadata": {},
     "output_type": "execute_result"
    }
   ],
   "source": [
    "# Quadratic Regression 2\n",
    "clfpoly2 = make_pipeline(PolynomialFeatures(2), Ridge())\n",
    "clfpoly2.fit(X_train,y_train)\n"
   ]
  },
  {
   "cell_type": "code",
   "execution_count": 21,
   "metadata": {},
   "outputs": [
    {
     "data": {
      "text/plain": [
       "Pipeline(memory=None,\n",
       "         steps=[('polynomialfeatures',\n",
       "                 PolynomialFeatures(degree=3, include_bias=True,\n",
       "                                    interaction_only=False, order='C')),\n",
       "                ('ridge',\n",
       "                 Ridge(alpha=1.0, copy_X=True, fit_intercept=True,\n",
       "                       max_iter=None, normalize=False, random_state=None,\n",
       "                       solver='auto', tol=0.001))],\n",
       "         verbose=False)"
      ]
     },
     "execution_count": 21,
     "metadata": {},
     "output_type": "execute_result"
    }
   ],
   "source": [
    "# Quadratic Regression 3\n",
    "clfpoly3 = make_pipeline(PolynomialFeatures(3), Ridge())\n",
    "clfpoly3.fit(X_train,y_train)"
   ]
  },
  {
   "cell_type": "code",
   "execution_count": 22,
   "metadata": {},
   "outputs": [
    {
     "data": {
      "text/plain": [
       "KNeighborsRegressor(algorithm='auto', leaf_size=30, metric='minkowski',\n",
       "                    metric_params=None, n_jobs=None, n_neighbors=5, p=2,\n",
       "                    weights='uniform')"
      ]
     },
     "execution_count": 22,
     "metadata": {},
     "output_type": "execute_result"
    }
   ],
   "source": [
    "clfknn = KNeighborsRegressor()\n",
    "clfknn.fit(X_train,y_train)"
   ]
  },
  {
   "cell_type": "code",
   "execution_count": 23,
   "metadata": {},
   "outputs": [
    {
     "name": "stdout",
     "output_type": "stream",
     "text": [
      "Linear Regression:  0.7293537826410268\n",
      "Q2 Regression:  0.7626512538015894\n",
      "Q3 Regression:  -2.6245072510339185\n",
      "KNN Regression:  0.8103934173781377\n"
     ]
    }
   ],
   "source": [
    "#assessing R^2 of regressions\n",
    "print('Linear Regression: ', clfreg.score(X_test, y_test))\n",
    "print('Q2 Regression: ',clfpoly2.score(X_test, y_test))\n",
    "print('Q3 Regression: ',clfpoly3.score(X_test, y_test))\n",
    "print('KNN Regression: ',clfknn.score(X_test, y_test))"
   ]
  },
  {
   "cell_type": "code",
   "execution_count": 24,
   "metadata": {},
   "outputs": [
    {
     "name": "stdout",
     "output_type": "stream",
     "text": [
      "[196.58  210.632 197.334 186.378 158.532 173.028 185.86  185.058 184.896\n",
      " 176.558 165.238 191.788 179.782 183.286 158.708 177.692 192.37  172.302\n",
      " 186.67  202.302 187.904 193.26  192.558 199.032 190.11  199.398 196.536\n",
      " 191.774 197.518 188.716 198.066 194.352 210.332 191.638 184.308 189.62\n",
      " 196.856 191.06  198.902 196.264 195.05  180.386 196.584 184.584 178.68\n",
      " 190.624 180.168 200.326 202.878 197.116 182.57  191.534 181.704 216.66\n",
      " 186.96  192.374 177.758 169.    205.528 179.564 170.318 184.896 184.782\n",
      " 173.452 161.78  182.678 170.318 168.56  187.49  154.13  171.454 183.746\n",
      " 152.622 152.504 167.452 194.294 197.866 186.682 203.264 189.788 192.152\n",
      " 182.648 206.526 175.892 191.984 197.276 185.426 196.95  165.574 170.108\n",
      " 152.61  178.554 192.576 165.338 173.844 164.526 153.718 180.146 163.582\n",
      " 153.718]\n"
     ]
    }
   ],
   "source": [
    "#knn has best R^2 so we utilise it to make predictions\n",
    "forecast_prediction = clfknn.predict(X_forecast)\n",
    "print(forecast_prediction)"
   ]
  },
  {
   "cell_type": "code",
   "execution_count": 26,
   "metadata": {},
   "outputs": [
    {
     "name": "stdout",
     "output_type": "stream",
     "text": [
      "2019-09-04 00:00:00\n",
      "2019-09-05 00:00:00\n"
     ]
    }
   ],
   "source": [
    "#plotting forecast\n",
    "last_date = df_reg.iloc[-1].name\n",
    "print(last_date)\n",
    "last_unix = last_date\n",
    "next_unix = last_unix + datetime.timedelta(days=1)\n",
    "print(next_unix)"
   ]
  },
  {
   "cell_type": "code",
   "execution_count": 27,
   "metadata": {},
   "outputs": [
    {
     "data": {
      "image/png": "[encoded data removed]",
      "text/plain": [
       "<Figure size 432x288 with 1 Axes>"
      ]
     },
     "metadata": {
      "needs_background": "light"
     },
     "output_type": "display_data"
    }
   ],
   "source": [
    "for i in forecast_prediction:\n",
    "    next_date = next_unix\n",
    "    next_unix += datetime.timedelta(days=1)\n",
    "    df_reg.loc[next_date] = i\n",
    "    \n",
    "df_reg['close'].tail(500).plot()\n",
    "df_reg['prediction'].tail(100).plot()\n",
    "plt.legend(loc=4)\n",
    "plt.xlabel('Date')\n",
    "plt.ylabel('Price')\n",
    "plt.show()"
   ]
  },
  {
   "cell_type": "code",
   "execution_count": null,
   "metadata": {},
   "outputs": [],
   "source": []
  }
 ],
 "metadata": {
  "kernelspec": {
   "display_name": "Python 3",
   "language": "python",
   "name": "python3"
  },
  "language_info": {
   "codemirror_mode": {
    "name": "ipython",
    "version": 3
   },
   "file_extension": ".py",
   "mimetype": "text/x-python",
   "name": "python",
   "nbconvert_exporter": "python",
   "pygments_lexer": "ipython3",
   "version": "3.7.3"
  }
 },
 "nbformat": 4,
 "nbformat_minor": 2
}
